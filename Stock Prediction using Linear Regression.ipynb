{
 "cells": [
  {
   "cell_type": "code",
   "execution_count": 3,
   "metadata": {},
   "outputs": [],
   "source": [
    "import quandl"
   ]
  },
  {
   "cell_type": "code",
   "execution_count": 32,
   "metadata": {},
   "outputs": [],
   "source": [
    "import pandas as pd\n",
    "import matplotlib.pyplot as plt\n",
    "import seaborn as sns\n",
    "from sklearn.linear_model import LinearRegression"
   ]
  },
  {
   "cell_type": "code",
   "execution_count": 10,
   "metadata": {},
   "outputs": [
    {
     "name": "stdout",
     "output_type": "stream",
     "text": [
      "               Open     High      Low     Last    Close  Total Trade Quantity  \\\n",
      "Date                                                                            \n",
      "2018-05-02  3530.50  3532.20  3471.30  3500.00  3499.75             1579023.0   \n",
      "2018-05-03  3509.80  3526.00  3470.40  3481.75  3481.85             1880775.0   \n",
      "2018-05-04  3492.00  3497.00  3470.00  3479.00  3480.75             1173622.0   \n",
      "2018-05-07  3490.00  3490.00  3410.90  3428.00  3420.95             1742213.0   \n",
      "2018-05-08  3434.70  3486.50  3396.70  3440.20  3441.20             1496410.0   \n",
      "2018-05-09  3440.20  3494.75  3440.20  3488.50  3489.30             1307525.0   \n",
      "2018-05-10  3502.95  3511.15  3440.20  3446.30  3451.25             1929339.0   \n",
      "2018-05-11  3454.20  3485.00  3442.50  3461.00  3456.95             1313938.0   \n",
      "2018-05-14  3457.00  3471.00  3410.80  3440.00  3433.55             1216947.0   \n",
      "2018-05-15  3450.00  3495.80  3433.70  3487.00  3482.40              976445.0   \n",
      "2018-05-16  3479.95  3509.00  3475.25  3497.00  3493.90              824225.0   \n",
      "2018-05-17  3512.95  3533.15  3476.00  3480.80  3491.80             1484024.0   \n",
      "2018-05-18  3480.80  3517.70  3458.00  3495.00  3502.05              937498.0   \n",
      "2018-05-21  3528.70  3592.00  3518.05  3551.80  3556.75             1723089.0   \n",
      "2018-05-22  3558.00  3574.95  3493.70  3514.40  3508.90              928708.0   \n",
      "2018-05-23  3525.00  3545.00  3481.00  3498.95  3495.10              753649.0   \n",
      "2018-05-24  3510.00  3615.00  3502.35  3610.75  3603.70             1481158.0   \n",
      "2018-05-25  3625.00  3674.80  3572.55  3589.90  3585.80             1884886.0   \n",
      "\n",
      "            Turnover (Lacs)  \n",
      "Date                         \n",
      "2018-05-02         55218.26  \n",
      "2018-05-03         65856.82  \n",
      "2018-05-04         40902.42  \n",
      "2018-05-07         59904.35  \n",
      "2018-05-08         51593.22  \n",
      "2018-05-09         45514.23  \n",
      "2018-05-10         67113.81  \n",
      "2018-05-11         45476.37  \n",
      "2018-05-14         41714.60  \n",
      "2018-05-15         33960.47  \n",
      "2018-05-16         28800.12  \n",
      "2018-05-17         52084.64  \n",
      "2018-05-18         32698.61  \n",
      "2018-05-21         61465.18  \n",
      "2018-05-22         32694.53  \n",
      "2018-05-23         26481.98  \n",
      "2018-05-24         53020.87  \n",
      "2018-05-25         68480.01  \n"
     ]
    }
   ],
   "source": [
    "quandl.ApiConfig.api_key = 'M37DvDHvXsQJ9qzssDfG'\n",
    "stock_data = quandl.get('NSE/TCS', start_date='2018-5-01', end_date='2018-5-27')\n",
    "#Let's see the data\n",
    "print(stock_data)"
   ]
  },
  {
   "cell_type": "code",
   "execution_count": 12,
   "metadata": {},
   "outputs": [],
   "source": [
    "# converting our stock data variable to a dataFrame\n",
    "df = pd.DataFrame(stock_data)"
   ]
  },
  {
   "cell_type": "code",
   "execution_count": 13,
   "metadata": {},
   "outputs": [
    {
     "data": {
      "text/html": [
       "<div>\n",
       "<style scoped>\n",
       "    .dataframe tbody tr th:only-of-type {\n",
       "        vertical-align: middle;\n",
       "    }\n",
       "\n",
       "    .dataframe tbody tr th {\n",
       "        vertical-align: top;\n",
       "    }\n",
       "\n",
       "    .dataframe thead th {\n",
       "        text-align: right;\n",
       "    }\n",
       "</style>\n",
       "<table border=\"1\" class=\"dataframe\">\n",
       "  <thead>\n",
       "    <tr style=\"text-align: right;\">\n",
       "      <th></th>\n",
       "      <th>Open</th>\n",
       "      <th>High</th>\n",
       "      <th>Low</th>\n",
       "      <th>Last</th>\n",
       "      <th>Close</th>\n",
       "      <th>Total Trade Quantity</th>\n",
       "      <th>Turnover (Lacs)</th>\n",
       "    </tr>\n",
       "    <tr>\n",
       "      <th>Date</th>\n",
       "      <th></th>\n",
       "      <th></th>\n",
       "      <th></th>\n",
       "      <th></th>\n",
       "      <th></th>\n",
       "      <th></th>\n",
       "      <th></th>\n",
       "    </tr>\n",
       "  </thead>\n",
       "  <tbody>\n",
       "    <tr>\n",
       "      <th>2018-05-02</th>\n",
       "      <td>3530.5</td>\n",
       "      <td>3532.2</td>\n",
       "      <td>3471.3</td>\n",
       "      <td>3500.00</td>\n",
       "      <td>3499.75</td>\n",
       "      <td>1579023.0</td>\n",
       "      <td>55218.26</td>\n",
       "    </tr>\n",
       "    <tr>\n",
       "      <th>2018-05-03</th>\n",
       "      <td>3509.8</td>\n",
       "      <td>3526.0</td>\n",
       "      <td>3470.4</td>\n",
       "      <td>3481.75</td>\n",
       "      <td>3481.85</td>\n",
       "      <td>1880775.0</td>\n",
       "      <td>65856.82</td>\n",
       "    </tr>\n",
       "    <tr>\n",
       "      <th>2018-05-04</th>\n",
       "      <td>3492.0</td>\n",
       "      <td>3497.0</td>\n",
       "      <td>3470.0</td>\n",
       "      <td>3479.00</td>\n",
       "      <td>3480.75</td>\n",
       "      <td>1173622.0</td>\n",
       "      <td>40902.42</td>\n",
       "    </tr>\n",
       "    <tr>\n",
       "      <th>2018-05-07</th>\n",
       "      <td>3490.0</td>\n",
       "      <td>3490.0</td>\n",
       "      <td>3410.9</td>\n",
       "      <td>3428.00</td>\n",
       "      <td>3420.95</td>\n",
       "      <td>1742213.0</td>\n",
       "      <td>59904.35</td>\n",
       "    </tr>\n",
       "    <tr>\n",
       "      <th>2018-05-08</th>\n",
       "      <td>3434.7</td>\n",
       "      <td>3486.5</td>\n",
       "      <td>3396.7</td>\n",
       "      <td>3440.20</td>\n",
       "      <td>3441.20</td>\n",
       "      <td>1496410.0</td>\n",
       "      <td>51593.22</td>\n",
       "    </tr>\n",
       "  </tbody>\n",
       "</table>\n",
       "</div>"
      ],
      "text/plain": [
       "              Open    High     Low     Last    Close  Total Trade Quantity  \\\n",
       "Date                                                                         \n",
       "2018-05-02  3530.5  3532.2  3471.3  3500.00  3499.75             1579023.0   \n",
       "2018-05-03  3509.8  3526.0  3470.4  3481.75  3481.85             1880775.0   \n",
       "2018-05-04  3492.0  3497.0  3470.0  3479.00  3480.75             1173622.0   \n",
       "2018-05-07  3490.0  3490.0  3410.9  3428.00  3420.95             1742213.0   \n",
       "2018-05-08  3434.7  3486.5  3396.7  3440.20  3441.20             1496410.0   \n",
       "\n",
       "            Turnover (Lacs)  \n",
       "Date                         \n",
       "2018-05-02         55218.26  \n",
       "2018-05-03         65856.82  \n",
       "2018-05-04         40902.42  \n",
       "2018-05-07         59904.35  \n",
       "2018-05-08         51593.22  "
      ]
     },
     "execution_count": 13,
     "metadata": {},
     "output_type": "execute_result"
    }
   ],
   "source": [
    "df.head()"
   ]
  },
  {
   "cell_type": "code",
   "execution_count": 17,
   "metadata": {},
   "outputs": [],
   "source": [
    "df.to_csv('TCS.csv')"
   ]
  },
  {
   "cell_type": "code",
   "execution_count": 18,
   "metadata": {},
   "outputs": [],
   "source": [
    "data = pd.read_csv('TCS.csv')"
   ]
  },
  {
   "cell_type": "code",
   "execution_count": 19,
   "metadata": {},
   "outputs": [
    {
     "data": {
      "text/html": [
       "<div>\n",
       "<style scoped>\n",
       "    .dataframe tbody tr th:only-of-type {\n",
       "        vertical-align: middle;\n",
       "    }\n",
       "\n",
       "    .dataframe tbody tr th {\n",
       "        vertical-align: top;\n",
       "    }\n",
       "\n",
       "    .dataframe thead th {\n",
       "        text-align: right;\n",
       "    }\n",
       "</style>\n",
       "<table border=\"1\" class=\"dataframe\">\n",
       "  <thead>\n",
       "    <tr style=\"text-align: right;\">\n",
       "      <th></th>\n",
       "      <th>Date</th>\n",
       "      <th>Open</th>\n",
       "      <th>High</th>\n",
       "      <th>Low</th>\n",
       "      <th>Last</th>\n",
       "      <th>Close</th>\n",
       "      <th>Total Trade Quantity</th>\n",
       "      <th>Turnover (Lacs)</th>\n",
       "    </tr>\n",
       "  </thead>\n",
       "  <tbody>\n",
       "    <tr>\n",
       "      <th>0</th>\n",
       "      <td>2018-05-02</td>\n",
       "      <td>3530.5</td>\n",
       "      <td>3532.2</td>\n",
       "      <td>3471.3</td>\n",
       "      <td>3500.00</td>\n",
       "      <td>3499.75</td>\n",
       "      <td>1579023.0</td>\n",
       "      <td>55218.26</td>\n",
       "    </tr>\n",
       "    <tr>\n",
       "      <th>1</th>\n",
       "      <td>2018-05-03</td>\n",
       "      <td>3509.8</td>\n",
       "      <td>3526.0</td>\n",
       "      <td>3470.4</td>\n",
       "      <td>3481.75</td>\n",
       "      <td>3481.85</td>\n",
       "      <td>1880775.0</td>\n",
       "      <td>65856.82</td>\n",
       "    </tr>\n",
       "    <tr>\n",
       "      <th>2</th>\n",
       "      <td>2018-05-04</td>\n",
       "      <td>3492.0</td>\n",
       "      <td>3497.0</td>\n",
       "      <td>3470.0</td>\n",
       "      <td>3479.00</td>\n",
       "      <td>3480.75</td>\n",
       "      <td>1173622.0</td>\n",
       "      <td>40902.42</td>\n",
       "    </tr>\n",
       "    <tr>\n",
       "      <th>3</th>\n",
       "      <td>2018-05-07</td>\n",
       "      <td>3490.0</td>\n",
       "      <td>3490.0</td>\n",
       "      <td>3410.9</td>\n",
       "      <td>3428.00</td>\n",
       "      <td>3420.95</td>\n",
       "      <td>1742213.0</td>\n",
       "      <td>59904.35</td>\n",
       "    </tr>\n",
       "    <tr>\n",
       "      <th>4</th>\n",
       "      <td>2018-05-08</td>\n",
       "      <td>3434.7</td>\n",
       "      <td>3486.5</td>\n",
       "      <td>3396.7</td>\n",
       "      <td>3440.20</td>\n",
       "      <td>3441.20</td>\n",
       "      <td>1496410.0</td>\n",
       "      <td>51593.22</td>\n",
       "    </tr>\n",
       "  </tbody>\n",
       "</table>\n",
       "</div>"
      ],
      "text/plain": [
       "         Date    Open    High     Low     Last    Close  Total Trade Quantity  \\\n",
       "0  2018-05-02  3530.5  3532.2  3471.3  3500.00  3499.75             1579023.0   \n",
       "1  2018-05-03  3509.8  3526.0  3470.4  3481.75  3481.85             1880775.0   \n",
       "2  2018-05-04  3492.0  3497.0  3470.0  3479.00  3480.75             1173622.0   \n",
       "3  2018-05-07  3490.0  3490.0  3410.9  3428.00  3420.95             1742213.0   \n",
       "4  2018-05-08  3434.7  3486.5  3396.7  3440.20  3441.20             1496410.0   \n",
       "\n",
       "   Turnover (Lacs)  \n",
       "0         55218.26  \n",
       "1         65856.82  \n",
       "2         40902.42  \n",
       "3         59904.35  \n",
       "4         51593.22  "
      ]
     },
     "execution_count": 19,
     "metadata": {},
     "output_type": "execute_result"
    }
   ],
   "source": [
    "data.head()"
   ]
  },
  {
   "cell_type": "code",
   "execution_count": 20,
   "metadata": {},
   "outputs": [
    {
     "name": "stdout",
     "output_type": "stream",
     "text": [
      "<class 'pandas.core.frame.DataFrame'>\n",
      "RangeIndex: 18 entries, 0 to 17\n",
      "Data columns (total 8 columns):\n",
      "Date                    18 non-null object\n",
      "Open                    18 non-null float64\n",
      "High                    18 non-null float64\n",
      "Low                     18 non-null float64\n",
      "Last                    18 non-null float64\n",
      "Close                   18 non-null float64\n",
      "Total Trade Quantity    18 non-null float64\n",
      "Turnover (Lacs)         18 non-null float64\n",
      "dtypes: float64(7), object(1)\n",
      "memory usage: 1.2+ KB\n"
     ]
    }
   ],
   "source": [
    "data.info()"
   ]
  },
  {
   "cell_type": "code",
   "execution_count": 23,
   "metadata": {},
   "outputs": [
    {
     "data": {
      "text/plain": [
       "Date                    0\n",
       "Open                    0\n",
       "High                    0\n",
       "Low                     0\n",
       "Last                    0\n",
       "Close                   0\n",
       "Total Trade Quantity    0\n",
       "Turnover (Lacs)         0\n",
       "dtype: int64"
      ]
     },
     "execution_count": 23,
     "metadata": {},
     "output_type": "execute_result"
    }
   ],
   "source": [
    "data.isnull().sum()"
   ]
  },
  {
   "cell_type": "code",
   "execution_count": 24,
   "metadata": {},
   "outputs": [
    {
     "data": {
      "image/png": "[encoded data removed]",
      "text/plain": [
       "<Figure size 1224x576 with 2 Axes>"
      ]
     },
     "metadata": {
      "needs_background": "light"
     },
     "output_type": "display_data"
    }
   ],
   "source": [
    "plt.figure(1,figsize=(17,8))\n",
    "cor = sns.heatmap(data.corr(),annot=True)"
   ]
  },
  {
   "cell_type": "code",
   "execution_count": 30,
   "metadata": {},
   "outputs": [],
   "source": [
    "x = data.loc[:,'High':'Turnover (Lacs)']\n",
    "y = data.loc[:,'Open']"
   ]
  },
  {
   "cell_type": "code",
   "execution_count": 31,
   "metadata": {},
   "outputs": [
    {
     "data": {
      "text/html": [
       "<div>\n",
       "<style scoped>\n",
       "    .dataframe tbody tr th:only-of-type {\n",
       "        vertical-align: middle;\n",
       "    }\n",
       "\n",
       "    .dataframe tbody tr th {\n",
       "        vertical-align: top;\n",
       "    }\n",
       "\n",
       "    .dataframe thead th {\n",
       "        text-align: right;\n",
       "    }\n",
       "</style>\n",
       "<table border=\"1\" class=\"dataframe\">\n",
       "  <thead>\n",
       "    <tr style=\"text-align: right;\">\n",
       "      <th></th>\n",
       "      <th>High</th>\n",
       "      <th>Low</th>\n",
       "      <th>Last</th>\n",
       "      <th>Close</th>\n",
       "      <th>Total Trade Quantity</th>\n",
       "      <th>Turnover (Lacs)</th>\n",
       "    </tr>\n",
       "  </thead>\n",
       "  <tbody>\n",
       "    <tr>\n",
       "      <th>0</th>\n",
       "      <td>3532.2</td>\n",
       "      <td>3471.3</td>\n",
       "      <td>3500.00</td>\n",
       "      <td>3499.75</td>\n",
       "      <td>1579023.0</td>\n",
       "      <td>55218.26</td>\n",
       "    </tr>\n",
       "    <tr>\n",
       "      <th>1</th>\n",
       "      <td>3526.0</td>\n",
       "      <td>3470.4</td>\n",
       "      <td>3481.75</td>\n",
       "      <td>3481.85</td>\n",
       "      <td>1880775.0</td>\n",
       "      <td>65856.82</td>\n",
       "    </tr>\n",
       "    <tr>\n",
       "      <th>2</th>\n",
       "      <td>3497.0</td>\n",
       "      <td>3470.0</td>\n",
       "      <td>3479.00</td>\n",
       "      <td>3480.75</td>\n",
       "      <td>1173622.0</td>\n",
       "      <td>40902.42</td>\n",
       "    </tr>\n",
       "    <tr>\n",
       "      <th>3</th>\n",
       "      <td>3490.0</td>\n",
       "      <td>3410.9</td>\n",
       "      <td>3428.00</td>\n",
       "      <td>3420.95</td>\n",
       "      <td>1742213.0</td>\n",
       "      <td>59904.35</td>\n",
       "    </tr>\n",
       "    <tr>\n",
       "      <th>4</th>\n",
       "      <td>3486.5</td>\n",
       "      <td>3396.7</td>\n",
       "      <td>3440.20</td>\n",
       "      <td>3441.20</td>\n",
       "      <td>1496410.0</td>\n",
       "      <td>51593.22</td>\n",
       "    </tr>\n",
       "  </tbody>\n",
       "</table>\n",
       "</div>"
      ],
      "text/plain": [
       "     High     Low     Last    Close  Total Trade Quantity  Turnover (Lacs)\n",
       "0  3532.2  3471.3  3500.00  3499.75             1579023.0         55218.26\n",
       "1  3526.0  3470.4  3481.75  3481.85             1880775.0         65856.82\n",
       "2  3497.0  3470.0  3479.00  3480.75             1173622.0         40902.42\n",
       "3  3490.0  3410.9  3428.00  3420.95             1742213.0         59904.35\n",
       "4  3486.5  3396.7  3440.20  3441.20             1496410.0         51593.22"
      ]
     },
     "execution_count": 31,
     "metadata": {},
     "output_type": "execute_result"
    }
   ],
   "source": [
    "x.head()"
   ]
  },
  {
   "cell_type": "code",
   "execution_count": 27,
   "metadata": {},
   "outputs": [
    {
     "data": {
      "text/plain": [
       "0    3530.5\n",
       "1    3509.8\n",
       "2    3492.0\n",
       "3    3490.0\n",
       "4    3434.7\n",
       "Name: Open, dtype: float64"
      ]
     },
     "execution_count": 27,
     "metadata": {},
     "output_type": "execute_result"
    }
   ],
   "source": [
    "y.head()"
   ]
  },
  {
   "cell_type": "code",
   "execution_count": 33,
   "metadata": {},
   "outputs": [],
   "source": [
    "from sklearn.model_selection import train_test_split\n",
    "x_train,x_test,y_train,y_test = train_test_split(x,y,test_size=0.1,random_state = 0)"
   ]
  },
  {
   "cell_type": "code",
   "execution_count": 34,
   "metadata": {},
   "outputs": [],
   "source": [
    "# lets Fit Our Linear Regression Model\n",
    "LR = LinearRegression()\n"
   ]
  },
  {
   "cell_type": "code",
   "execution_count": 36,
   "metadata": {},
   "outputs": [
    {
     "data": {
      "text/plain": [
       "LinearRegression(copy_X=True, fit_intercept=True, n_jobs=None,\n",
       "         normalize=False)"
      ]
     },
     "execution_count": 36,
     "metadata": {},
     "output_type": "execute_result"
    }
   ],
   "source": [
    "LR.fit(x_train,y_train)"
   ]
  },
  {
   "cell_type": "code",
   "execution_count": 37,
   "metadata": {},
   "outputs": [
    {
     "data": {
      "text/plain": [
       "0.3735198171924484"
      ]
     },
     "execution_count": 37,
     "metadata": {},
     "output_type": "execute_result"
    }
   ],
   "source": [
    "LR.score(x_test,y_test)"
   ]
  },
  {
   "cell_type": "code",
   "execution_count": 38,
   "metadata": {},
   "outputs": [
    {
     "name": "stdout",
     "output_type": "stream",
     "text": [
      "[2603.8675527]\n"
     ]
    }
   ],
   "source": [
    "Test_data = [[2017.0 ,1979.6 ,1990.00 ,1992.70 ,2321216.0 ,46373.71]]\n",
    "Prediction =  LR.predict(Test_data)\n",
    "print(Prediction)"
   ]
  },
  {
   "cell_type": "code",
   "execution_count": null,
   "metadata": {},
   "outputs": [],
   "source": []
  }
 ],
 "metadata": {
  "kernelspec": {
   "display_name": "Python 3",
   "language": "python",
   "name": "python3"
  },
  "language_info": {
   "codemirror_mode": {
    "name": "ipython",
    "version": 3
   },
   "file_extension": ".py",
   "mimetype": "text/x-python",
   "name": "python",
   "nbconvert_exporter": "python",
   "pygments_lexer": "ipython3",
   "version": "3.7.3"
  }
 },
 "nbformat": 4,
 "nbformat_minor": 2
}
